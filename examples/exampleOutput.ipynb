{
 "cells": [
  {
   "cell_type": "markdown",
   "metadata": {},
   "source": [
    "# Predict heart failure with Watson Machine Learning\n",
    "\n",
    "![](https://www.cdc.gov/vitalsigns/heartdisease-stroke/images/graph4_980px.jpg)\n",
    "\n",
    "This notebook contains steps and code to create a predictive model to predict heart failure and then deploy that model to Watson Machine Learning so it can be used in an application.\n",
    "\n",
    "## Learning Goals\n",
    "\n",
    "The learning goals of this notebook are:\n",
    "\n",
    "* Load a CSV file into the Object Storage service linked to your Watson Studio\n",
    "* Create an Apache Spark machine learning model\n",
    "* Train and evaluate a model\n",
    "* Persist a model in a Watson Machine Learning repository"
   ]
  },
  {
   "cell_type": "markdown",
   "metadata": {},
   "source": [
    "## 1. Setup\n",
    "\n",
    "Before you use the sample code in this notebook, you must perform the following setup tasks:\n",
    "\n",
    "* Create a Watson Machine Learning service instance (a free plan is offered) and associate it with your project\n",
    "* Upload heart failure data to the Object Store service that is part of Watson Studio"
   ]
  },
  {
   "cell_type": "markdown",
   "metadata": {},
   "source": [
    "We'll be using a few libraries for this exercise:\n",
    "\n",
    "1. [Watson Machine Learning Client](http://wml-api-pyclient.mybluemix.net/): Client library to work with the Watson Machine Learning service on IBM Cloud.\n",
    "1. [Pixiedust](https://github.com/pixiedust/pixiedust): Python Helper library for Jupyter Notebooks\n",
    "1. [ibmos2spark](https://github.com/ibm-watson-data-lab/ibmos2spark): Facilitates Data I/O between Spark and IBM Object Storage services"
   ]
  },
  {
   "cell_type": "code",
   "execution_count": 1,
   "metadata": {},
   "outputs": [
    {
     "name": "stdout",
     "output_type": "stream",
     "text": [
      "Waiting for a Spark session to start...\n",
      "Spark Initialization Done! ApplicationId = app-20190815201445-0000\n",
      "KERNEL_ID = f22c7b07-99ef-411e-9000-1068fa3b4da8\n",
      "Collecting ibmos2spark\n",
      "  Downloading https://files.pythonhosted.org/packages/c6/81/1edb24382edef1ca636e87972b2da286b8271a586c728a21f916d3cd76cd/ibmos2spark-1.0.1-py2.py3-none-any.whl\n",
      "Installing collected packages: ibmos2spark\n",
      "Successfully installed ibmos2spark-1.0.1\n",
      "Collecting pixiedust\n",
      "\u001b[?25l  Downloading https://files.pythonhosted.org/packages/bc/a8/e84b2ed12ee387589c099734b6f914a520e1fef2733c955982623080e813/pixiedust-1.1.17.tar.gz (197kB)\n",
      "\u001b[K    100% |################################| 204kB 3.4MB/s ta 0:00:01\n",
      "\u001b[?25hCollecting mpld3 (from pixiedust)\n",
      "\u001b[?25l  Downloading https://files.pythonhosted.org/packages/91/95/a52d3a83d0a29ba0d6898f6727e9858fe7a43f6c2ce81a5fe7e05f0f4912/mpld3-0.3.tar.gz (788kB)\n",
      "\u001b[K    100% |################################| 798kB 2.9MB/s eta 0:00:01\n",
      "\u001b[?25hCollecting lxml (from pixiedust)\n",
      "\u001b[?25l  Downloading https://files.pythonhosted.org/packages/ec/be/5ab8abdd8663c0386ec2dd595a5bc0e23330a0549b8a91e32f38c20845b6/lxml-4.4.1-cp36-cp36m-manylinux1_x86_64.whl (5.8MB)\n",
      "\u001b[K    100% |################################| 5.8MB 1.4MB/s eta 0:00:01\n",
      "\u001b[?25hCollecting geojson (from pixiedust)\n",
      "  Downloading https://files.pythonhosted.org/packages/e4/8d/9e28e9af95739e6d2d2f8d4bef0b3432da40b7c3588fbad4298c1be09e48/geojson-2.5.0-py2.py3-none-any.whl\n",
      "Collecting astunparse (from pixiedust)\n",
      "  Downloading https://files.pythonhosted.org/packages/2e/37/5dd0dd89b87bb5f0f32a7e775458412c52d78f230ab8d0c65df6aabc4479/astunparse-1.6.2-py2.py3-none-any.whl\n",
      "Collecting markdown (from pixiedust)\n",
      "\u001b[?25l  Downloading https://files.pythonhosted.org/packages/c0/4e/fd492e91abdc2d2fcb70ef453064d980688762079397f779758e055f6575/Markdown-3.1.1-py2.py3-none-any.whl (87kB)\n",
      "\u001b[K    100% |################################| 92kB 3.9MB/s eta 0:00:01\n",
      "\u001b[?25hCollecting colour (from pixiedust)\n",
      "  Downloading https://files.pythonhosted.org/packages/74/46/e81907704ab203206769dee1385dc77e1407576ff8f50a0681d0a6b541be/colour-0.1.5-py2.py3-none-any.whl\n",
      "Collecting requests (from pixiedust)\n",
      "\u001b[?25l  Downloading https://files.pythonhosted.org/packages/51/bd/23c926cd341ea6b7dd0b2a00aba99ae0f828be89d72b2190f27c11d4b7fb/requests-2.22.0-py2.py3-none-any.whl (57kB)\n",
      "\u001b[K    100% |################################| 61kB 2.4MB/s eta 0:00:01\n",
      "\u001b[?25hCollecting six<2.0,>=1.6.1 (from astunparse->pixiedust)\n",
      "  Downloading https://files.pythonhosted.org/packages/73/fb/00a976f728d0d1fecfe898238ce23f502a721c0ac0ecfedb80e0d88c64e9/six-1.12.0-py2.py3-none-any.whl\n",
      "Collecting wheel<1.0,>=0.23.0 (from astunparse->pixiedust)\n",
      "  Downloading https://files.pythonhosted.org/packages/bb/10/44230dd6bf3563b8f227dbf344c908d412ad2ff48066476672f3a72e174e/wheel-0.33.4-py2.py3-none-any.whl\n",
      "Collecting setuptools>=36 (from markdown->pixiedust)\n",
      "\u001b[?25l  Downloading https://files.pythonhosted.org/packages/75/b3/0a106dfaf7f48aef638da80b32608617cc8de4b24a22c8cd3759c32e5d30/setuptools-41.1.0-py2.py3-none-any.whl (576kB)\n",
      "\u001b[K    100% |################################| 583kB 4.4MB/s eta 0:00:01\n",
      "\u001b[?25hCollecting urllib3!=1.25.0,!=1.25.1,<1.26,>=1.21.1 (from requests->pixiedust)\n",
      "\u001b[?25l  Downloading https://files.pythonhosted.org/packages/e6/60/247f23a7121ae632d62811ba7f273d0e58972d75e58a94d329d51550a47d/urllib3-1.25.3-py2.py3-none-any.whl (150kB)\n",
      "\u001b[K    100% |################################| 153kB 3.0MB/s eta 0:00:01\n",
      "\u001b[?25hCollecting certifi>=2017.4.17 (from requests->pixiedust)\n",
      "\u001b[?25l  Downloading https://files.pythonhosted.org/packages/69/1b/b853c7a9d4f6a6d00749e94eb6f3a041e342a885b87340b79c1ef73e3a78/certifi-2019.6.16-py2.py3-none-any.whl (157kB)\n",
      "\u001b[K    100% |################################| 163kB 3.4MB/s eta 0:00:01\n",
      "\u001b[?25hCollecting chardet<3.1.0,>=3.0.2 (from requests->pixiedust)\n",
      "\u001b[?25l  Downloading https://files.pythonhosted.org/packages/bc/a9/01ffebfb562e4274b6487b4bb1ddec7ca55ec7510b22e4c51f14098443b8/chardet-3.0.4-py2.py3-none-any.whl (133kB)\n",
      "\u001b[K    100% |################################| 143kB 4.6MB/s eta 0:00:01\n",
      "\u001b[?25hCollecting idna<2.9,>=2.5 (from requests->pixiedust)\n",
      "\u001b[?25l  Downloading https://files.pythonhosted.org/packages/14/2c/cd551d81dbe15200be1cf41cd03869a46fe7226e7450af7a6545bfc474c9/idna-2.8-py2.py3-none-any.whl (58kB)\n",
      "\u001b[K    100% |################################| 61kB 2.7MB/s eta 0:00:01\n",
      "\u001b[?25hBuilding wheels for collected packages: pixiedust, mpld3\n",
      "  Building wheel for pixiedust (setup.py) ... \u001b[?25ldone\n",
      "\u001b[?25h  Stored in directory: /home/spark/shared/.cache/pip/wheels/25/fa/a5/09c1e8f4c91b34c5f7f4ac6e41be81dd0667030a2372546a8d\n",
      "  Building wheel for mpld3 (setup.py) ... \u001b[?25ldone\n",
      "\u001b[?25h  Stored in directory: /home/spark/shared/.cache/pip/wheels/c0/47/fb/8a64f89aecfe0059830479308ad42d62e898a3e3cefdf6ba28\n",
      "Successfully built pixiedust mpld3\n",
      "\u001b[31mtensorflow 1.13.1 requires tensorboard<1.14.0,>=1.13.0, which is not installed.\u001b[0m\n",
      "\u001b[31mspyder 3.3.3 requires pyqt5<=5.12; python_version >= \"3\", which is not installed.\u001b[0m\n",
      "\u001b[31mibm-cos-sdk-core 2.4.3 has requirement urllib3<1.25,>=1.20, but you'll have urllib3 1.25.3 which is incompatible.\u001b[0m\n",
      "\u001b[31mbotocore 1.12.82 has requirement urllib3<1.25,>=1.20, but you'll have urllib3 1.25.3 which is incompatible.\u001b[0m\n",
      "Installing collected packages: mpld3, lxml, geojson, six, wheel, astunparse, setuptools, markdown, colour, urllib3, certifi, chardet, idna, requests, pixiedust\n",
      "Successfully installed astunparse-1.6.2 certifi-2019.6.16 chardet-3.0.4 colour-0.1.5 geojson-2.5.0 idna-2.8 lxml-4.4.1 markdown-3.1.1 mpld3-0.3 pixiedust-1.1.17 requests-2.22.0 setuptools-41.1.0 six-1.12.0 urllib3-1.25.3 wheel-0.33.4\n",
      "Collecting watson-machine-learning-client\n",
      "\u001b[?25l  Downloading https://files.pythonhosted.org/packages/0e/a1/c503614455fb734b0989e8d6abaf24d0544d7370f7eb2b80ffbc99a40caf/watson_machine_learning_client-1.0.371-py3-none-any.whl (536kB)\n",
      "\u001b[K    100% |################################| 542kB 2.9MB/s eta 0:00:01\n",
      "\u001b[?25hCollecting tqdm (from watson-machine-learning-client)\n",
      "\u001b[?25l  Downloading https://files.pythonhosted.org/packages/02/56/60a5b1c2e634d8e4ff89c7bab47645604e19658f448050a21facffd43796/tqdm-4.33.0-py2.py3-none-any.whl (50kB)\n",
      "\u001b[K    100% |################################| 51kB 2.1MB/s eta 0:00:01\n",
      "\u001b[?25hCollecting tabulate (from watson-machine-learning-client)\n",
      "\u001b[?25l  Downloading https://files.pythonhosted.org/packages/c2/fd/202954b3f0eb896c53b7b6f07390851b1fd2ca84aa95880d7ae4f434c4ac/tabulate-0.8.3.tar.gz (46kB)\n",
      "\u001b[K    100% |################################| 51kB 1.7MB/s eta 0:00:01\n",
      "\u001b[?25hCollecting pandas (from watson-machine-learning-client)\n",
      "\u001b[?25l  Downloading https://files.pythonhosted.org/packages/1d/9a/7eb9952f4b4d73fbd75ad1d5d6112f407e695957444cb695cbb3cdab918a/pandas-0.25.0-cp36-cp36m-manylinux1_x86_64.whl (10.5MB)\n",
      "\u001b[K    100% |################################| 10.5MB 1.3MB/s eta 0:00:01\n",
      "\u001b[?25hCollecting certifi (from watson-machine-learning-client)\n",
      "  Using cached https://files.pythonhosted.org/packages/69/1b/b853c7a9d4f6a6d00749e94eb6f3a041e342a885b87340b79c1ef73e3a78/certifi-2019.6.16-py2.py3-none-any.whl\n",
      "Collecting ibm-cos-sdk (from watson-machine-learning-client)\n",
      "\u001b[?25l  Downloading https://files.pythonhosted.org/packages/20/fd/7f00531e462bdef3b51a080b9efb2d32389a07fd73dc3ac1ceb27e247d6b/ibm-cos-sdk-2.5.2.tar.gz (52kB)\n",
      "\u001b[K    100% |################################| 61kB 2.5MB/s eta 0:00:01\n",
      "\u001b[?25hCollecting requests (from watson-machine-learning-client)\n",
      "  Using cached https://files.pythonhosted.org/packages/51/bd/23c926cd341ea6b7dd0b2a00aba99ae0f828be89d72b2190f27c11d4b7fb/requests-2.22.0-py2.py3-none-any.whl\n",
      "Collecting lomond (from watson-machine-learning-client)\n",
      "  Downloading https://files.pythonhosted.org/packages/0f/b1/02eebed49c754b01b17de7705caa8c4ceecfb4f926cdafc220c863584360/lomond-0.3.3-py2.py3-none-any.whl\n",
      "Collecting urllib3 (from watson-machine-learning-client)\n",
      "  Using cached https://files.pythonhosted.org/packages/e6/60/247f23a7121ae632d62811ba7f273d0e58972d75e58a94d329d51550a47d/urllib3-1.25.3-py2.py3-none-any.whl\n",
      "Collecting python-dateutil>=2.6.1 (from pandas->watson-machine-learning-client)\n",
      "\u001b[?25l  Downloading https://files.pythonhosted.org/packages/41/17/c62faccbfbd163c7f57f3844689e3a78bae1f403648a6afb1d0866d87fbb/python_dateutil-2.8.0-py2.py3-none-any.whl (226kB)\n",
      "\u001b[K    100% |################################| 235kB 3.2MB/s eta 0:00:01\n",
      "\u001b[?25hCollecting numpy>=1.13.3 (from pandas->watson-machine-learning-client)\n",
      "\u001b[?25l  Downloading https://files.pythonhosted.org/packages/19/b9/bda9781f0a74b90ebd2e046fde1196182900bd4a8e1ea503d3ffebc50e7c/numpy-1.17.0-cp36-cp36m-manylinux1_x86_64.whl (20.4MB)\n",
      "\u001b[K    100% |################################| 20.4MB 819kB/s eta 0:00:01\n",
      "\u001b[?25hCollecting pytz>=2017.2 (from pandas->watson-machine-learning-client)\n",
      "\u001b[?25l  Downloading https://files.pythonhosted.org/packages/87/76/46d697698a143e05f77bec5a526bf4e56a0be61d63425b68f4ba553b51f2/pytz-2019.2-py2.py3-none-any.whl (508kB)\n",
      "\u001b[K    100% |################################| 512kB 2.6MB/s eta 0:00:01\n",
      "\u001b[?25hCollecting ibm-cos-sdk-core>=2.0.0 (from ibm-cos-sdk->watson-machine-learning-client)\n",
      "\u001b[?25l  Downloading https://files.pythonhosted.org/packages/a3/ef/036e9cdb65f6d126e23555b82cddca36e8f5ab70728167c18b9a2dc4ba74/ibm-cos-sdk-core-2.5.2.tar.gz (1.1MB)\n",
      "\u001b[K    100% |################################| 1.1MB 1.7MB/s eta 0:00:01\n",
      "\u001b[?25hCollecting ibm-cos-sdk-s3transfer>=2.0.0 (from ibm-cos-sdk->watson-machine-learning-client)\n",
      "\u001b[?25l  Downloading https://files.pythonhosted.org/packages/f5/b7/1bf1792978a65668af1fe00887c65ffffa02b784b779f6392a707b045d33/ibm-cos-sdk-s3transfer-2.5.2.tar.gz (134kB)\n",
      "\u001b[K    100% |################################| 143kB 4.0MB/s eta 0:00:01\n",
      "\u001b[?25hCollecting jmespath<1.0.0,>=0.7.1 (from ibm-cos-sdk->watson-machine-learning-client)\n",
      "  Downloading https://files.pythonhosted.org/packages/83/94/7179c3832a6d45b266ddb2aac329e101367fbdb11f425f13771d27f225bb/jmespath-0.9.4-py2.py3-none-any.whl\n",
      "Collecting chardet<3.1.0,>=3.0.2 (from requests->watson-machine-learning-client)\n",
      "  Using cached https://files.pythonhosted.org/packages/bc/a9/01ffebfb562e4274b6487b4bb1ddec7ca55ec7510b22e4c51f14098443b8/chardet-3.0.4-py2.py3-none-any.whl\n",
      "Collecting idna<2.9,>=2.5 (from requests->watson-machine-learning-client)\n",
      "  Using cached https://files.pythonhosted.org/packages/14/2c/cd551d81dbe15200be1cf41cd03869a46fe7226e7450af7a6545bfc474c9/idna-2.8-py2.py3-none-any.whl\n",
      "Collecting six>=1.10.0 (from lomond->watson-machine-learning-client)\n",
      "  Using cached https://files.pythonhosted.org/packages/73/fb/00a976f728d0d1fecfe898238ce23f502a721c0ac0ecfedb80e0d88c64e9/six-1.12.0-py2.py3-none-any.whl\n",
      "Collecting docutils>=0.10 (from ibm-cos-sdk-core>=2.0.0->ibm-cos-sdk->watson-machine-learning-client)\n",
      "\u001b[?25l  Downloading https://files.pythonhosted.org/packages/22/cd/a6aa959dca619918ccb55023b4cb151949c64d4d5d55b3f4ffd7eee0c6e8/docutils-0.15.2-py3-none-any.whl (547kB)\n",
      "\u001b[K    100% |################################| 552kB 3.9MB/s eta 0:00:01\n",
      "\u001b[?25hBuilding wheels for collected packages: tabulate, ibm-cos-sdk, ibm-cos-sdk-core, ibm-cos-sdk-s3transfer\n",
      "  Building wheel for tabulate (setup.py) ... \u001b[?25ldone\n",
      "\u001b[?25h  Stored in directory: /home/spark/shared/.cache/pip/wheels/2b/67/89/414471314a2d15de625d184d8be6d38a03ae1e983dbda91e84\n",
      "  Building wheel for ibm-cos-sdk (setup.py) ... \u001b[?25ldone\n",
      "\u001b[?25h  Stored in directory: /home/spark/shared/.cache/pip/wheels/87/2f/02/93c831ab48a803554ee49c1ac6d506b3b8f0048fb07ced5af3\n",
      "  Building wheel for ibm-cos-sdk-core (setup.py) ... \u001b[?25ldone\n",
      "\u001b[?25h  Stored in directory: /home/spark/shared/.cache/pip/wheels/ae/53/c4/96f29495ed8057390a2f88cae9f5590acaee9294fa04c3be1b\n",
      "  Building wheel for ibm-cos-sdk-s3transfer (setup.py) ... \u001b[?25ldone\n",
      "\u001b[?25h  Stored in directory: /home/spark/shared/.cache/pip/wheels/e5/76/a0/5df69137a266c09774d7dabd71c4056b2e8262ebc63e012867\n",
      "Successfully built tabulate ibm-cos-sdk ibm-cos-sdk-core ibm-cos-sdk-s3transfer\n",
      "\u001b[31mtensorflow 1.13.1 requires tensorboard<1.14.0,>=1.13.0, which is not installed.\u001b[0m\n",
      "\u001b[31mspyder 3.3.3 requires pyqt5<=5.12; python_version >= \"3\", which is not installed.\u001b[0m\n",
      "\u001b[31mibm-cos-sdk-core 2.5.2 has requirement urllib3<1.25,>=1.20, but you'll have urllib3 1.25.3 which is incompatible.\u001b[0m\n",
      "\u001b[31mbotocore 1.12.82 has requirement urllib3<1.25,>=1.20, but you'll have urllib3 1.25.3 which is incompatible.\u001b[0m\n",
      "Installing collected packages: tqdm, tabulate, six, python-dateutil, numpy, pytz, pandas, certifi, jmespath, docutils, urllib3, ibm-cos-sdk-core, ibm-cos-sdk-s3transfer, ibm-cos-sdk, chardet, idna, requests, lomond, watson-machine-learning-client\n",
      "Successfully installed certifi-2019.6.16 chardet-3.0.4 docutils-0.15.2 ibm-cos-sdk-2.5.2 ibm-cos-sdk-core-2.5.2 ibm-cos-sdk-s3transfer-2.5.2 idna-2.8 jmespath-0.9.4 lomond-0.3.3 numpy-1.17.0 pandas-0.25.0 python-dateutil-2.8.0 pytz-2019.2 requests-2.22.0 six-1.12.0 tabulate-0.8.3 tqdm-4.33.0 urllib3-1.25.3 watson-machine-learning-client-1.0.371\n"
     ]
    }
   ],
   "source": [
    "!pip install --upgrade ibmos2spark\n",
    "!pip install --upgrade pixiedust\n",
    "!pip install --upgrade watson-machine-learning-client"
   ]
  },
  {
   "cell_type": "markdown",
   "metadata": {},
   "source": [
    "## 2. Load and explore data\n",
    "\n",
    "In this section you will load the data as an Apache Spark DataFrame and perform a basic exploration. Load the data to the Spark DataFrame from your associated Object Storage instance.\n",
    "\n",
    "> **IMPORTANT**: Follow the lab instructions to insert an Apache Spark DataFrame in the cell below.\n",
    "\n",
    "> **IMPORTANT**: Ensure the DataFrame is named `df_data`.\n",
    "\n",
    "> **IMPORTANT**: Add `.option('inferSchema','True')\\` to the inserted code."
   ]
  },
  {
   "cell_type": "code",
   "execution_count": 2,
   "metadata": {},
   "outputs": [
    {
     "data": {
      "text/plain": [
       "[Row(AVGHEARTBEATSPERMIN=93, PALPITATIONSPERDAY=22, CHOLESTEROL=163, BMI=25, HEARTFAILURE='N', AGE=49, SEX='F', FAMILYHISTORY='N', SMOKERLAST5YRS='N', EXERCISEMINPERWEEK=110),\n",
       " Row(AVGHEARTBEATSPERMIN=108, PALPITATIONSPERDAY=22, CHOLESTEROL=181, BMI=24, HEARTFAILURE='N', AGE=32, SEX='F', FAMILYHISTORY='N', SMOKERLAST5YRS='N', EXERCISEMINPERWEEK=192),\n",
       " Row(AVGHEARTBEATSPERMIN=86, PALPITATIONSPERDAY=0, CHOLESTEROL=239, BMI=20, HEARTFAILURE='N', AGE=60, SEX='F', FAMILYHISTORY='N', SMOKERLAST5YRS='N', EXERCISEMINPERWEEK=121),\n",
       " Row(AVGHEARTBEATSPERMIN=80, PALPITATIONSPERDAY=36, CHOLESTEROL=164, BMI=31, HEARTFAILURE='Y', AGE=45, SEX='F', FAMILYHISTORY='Y', SMOKERLAST5YRS='N', EXERCISEMINPERWEEK=141),\n",
       " Row(AVGHEARTBEATSPERMIN=66, PALPITATIONSPERDAY=36, CHOLESTEROL=185, BMI=23, HEARTFAILURE='N', AGE=39, SEX='F', FAMILYHISTORY='N', SMOKERLAST5YRS='N', EXERCISEMINPERWEEK=63)]"
      ]
     },
     "execution_count": 2,
     "metadata": {},
     "output_type": "execute_result"
    }
   ],
   "source": [
    "import ibmos2spark\n",
    "# @hidden_cell\n",
    "credentials = {\n",
    "    'endpoint': 'https://s3-api.us-geo.objectstorage.service.networklayer.com',\n",
    "    'service_id': 'iam-ServiceId-abc',\n",
    "    'iam_service_endpoint': 'https://iam.ng.bluemix.net/oidc/token',\n",
    "    'api_key': '123'\n",
    "}\n",
    "\n",
    "configuration_name = 'os_bf77d026bb654c7ab3442e2b206102e9_configs'\n",
    "cos = ibmos2spark.CloudObjectStorage(sc, credentials, configuration_name, 'bluemix_cos')\n",
    "\n",
    "from pyspark.sql import SparkSession\n",
    "spark = SparkSession.builder.getOrCreate()\n",
    "df_data = spark.read\\\n",
    "  .format('org.apache.spark.sql.execution.datasources.csv.CSVFileFormat')\\\n",
    "  .option('header', 'true')\\\n",
    "  .option('inferSchema','True')\\\n",
    "  .load(cos.url('patientdataV6.csv', 'mydatasciencesandbox-donotdelete-pr-qt96ckabo9cjpv'))\n",
    "df_data.take(5)\n"
   ]
  },
  {
   "cell_type": "markdown",
   "metadata": {},
   "source": [
    "Explore the loaded data by using the following Apache® Spark DataFrame methods:\n",
    "\n",
    "* `df_data.printSchema` to print the data schema\n",
    "* `df_data.describe()` to print the top twenty records\n",
    "* `df_data.count()` to count all records"
   ]
  },
  {
   "cell_type": "code",
   "execution_count": 3,
   "metadata": {},
   "outputs": [
    {
     "name": "stdout",
     "output_type": "stream",
     "text": [
      "root\n",
      " |-- AVGHEARTBEATSPERMIN: integer (nullable = true)\n",
      " |-- PALPITATIONSPERDAY: integer (nullable = true)\n",
      " |-- CHOLESTEROL: integer (nullable = true)\n",
      " |-- BMI: integer (nullable = true)\n",
      " |-- HEARTFAILURE: string (nullable = true)\n",
      " |-- AGE: integer (nullable = true)\n",
      " |-- SEX: string (nullable = true)\n",
      " |-- FAMILYHISTORY: string (nullable = true)\n",
      " |-- SMOKERLAST5YRS: string (nullable = true)\n",
      " |-- EXERCISEMINPERWEEK: integer (nullable = true)\n",
      "\n"
     ]
    }
   ],
   "source": [
    "df_data.printSchema()"
   ]
  },
  {
   "cell_type": "markdown",
   "metadata": {},
   "source": [
    "As you can see, the data contains ten  fields. The  HEARTFAILURE field is the one we would like to predict (label)."
   ]
  },
  {
   "cell_type": "code",
   "execution_count": 4,
   "metadata": {},
   "outputs": [
    {
     "name": "stdout",
     "output_type": "stream",
     "text": [
      "+-------------------+------------------+-----------+---+------------+---+---+-------------+--------------+------------------+\n",
      "|AVGHEARTBEATSPERMIN|PALPITATIONSPERDAY|CHOLESTEROL|BMI|HEARTFAILURE|AGE|SEX|FAMILYHISTORY|SMOKERLAST5YRS|EXERCISEMINPERWEEK|\n",
      "+-------------------+------------------+-----------+---+------------+---+---+-------------+--------------+------------------+\n",
      "|                 93|                22|        163| 25|           N| 49|  F|            N|             N|               110|\n",
      "|                108|                22|        181| 24|           N| 32|  F|            N|             N|               192|\n",
      "|                 86|                 0|        239| 20|           N| 60|  F|            N|             N|               121|\n",
      "|                 80|                36|        164| 31|           Y| 45|  F|            Y|             N|               141|\n",
      "|                 66|                36|        185| 23|           N| 39|  F|            N|             N|                63|\n",
      "|                125|                27|        201| 31|           N| 47|  M|            N|             N|                13|\n",
      "|                 83|                27|        169| 20|           N| 71|  F|            Y|             N|               124|\n",
      "|                107|                31|        199| 32|           N| 55|  F|            N|             N|                22|\n",
      "|                 92|                28|        174| 22|           N| 44|  F|            N|             N|               107|\n",
      "|                 84|                12|        206| 25|           N| 50|  M|            N|             N|               199|\n",
      "|                 60|                 1|        194| 28|           N| 71|  M|            N|             N|                27|\n",
      "|                134|                 7|        228| 34|           Y| 63|  F|            Y|             N|                92|\n",
      "|                103|                 0|        237| 24|           N| 64|  F|            Y|             N|                34|\n",
      "|                101|                39|        157| 20|           N| 49|  M|            N|             N|                33|\n",
      "|                 92|                 2|        169| 26|           N| 36|  M|            N|             N|               217|\n",
      "|                 80|                27|        234| 27|           N| 50|  M|            N|             N|                28|\n",
      "|                 82|                14|        155| 30|           N| 70|  F|            N|             N|               207|\n",
      "|                 63|                 9|        204| 26|           N| 42|  M|            N|             N|                88|\n",
      "|                 83|                12|        209| 29|           N| 38|  M|            Y|             N|               220|\n",
      "|                 80|                37|        157| 20|           N| 48|  M|            N|             N|                54|\n",
      "+-------------------+------------------+-----------+---+------------+---+---+-------------+--------------+------------------+\n",
      "only showing top 20 rows\n",
      "\n"
     ]
    }
   ],
   "source": [
    "df_data.show()"
   ]
  },
  {
   "cell_type": "code",
   "execution_count": 5,
   "metadata": {},
   "outputs": [
    {
     "name": "stdout",
     "output_type": "stream",
     "text": [
      "+-------+-------------------+------------------+------------------+------------------+------------+------------------+-----+-------------+--------------+------------------+\n",
      "|summary|AVGHEARTBEATSPERMIN|PALPITATIONSPERDAY|       CHOLESTEROL|               BMI|HEARTFAILURE|               AGE|  SEX|FAMILYHISTORY|SMOKERLAST5YRS|EXERCISEMINPERWEEK|\n",
      "+-------+-------------------+------------------+------------------+------------------+------------+------------------+-----+-------------+--------------+------------------+\n",
      "|  count|              10800|             10800|             10800|             10800|       10800|             10800|10800|        10800|         10800|             10800|\n",
      "|   mean|  87.11509259259259|20.423148148148147|195.08027777777778| 26.35972222222222|        null|49.965185185185184| null|         null|          null|119.72953703703703|\n",
      "| stddev| 19.744375148984474|12.165320351622993|26.136731865042325|3.8201472810942136|        null|13.079280962015586| null|         null|          null| 71.14706006382843|\n",
      "|    min|                 48|                 0|               150|                20|           N|                28|    F|            N|             N|                 0|\n",
      "|    max|                161|                45|               245|                34|           Y|                72|    M|            Y|             Y|               250|\n",
      "+-------+-------------------+------------------+------------------+------------------+------------+------------------+-----+-------------+--------------+------------------+\n",
      "\n"
     ]
    }
   ],
   "source": [
    "df_data.describe().show()"
   ]
  },
  {
   "cell_type": "code",
   "execution_count": 6,
   "metadata": {},
   "outputs": [
    {
     "data": {
      "text/plain": [
       "10800"
      ]
     },
     "execution_count": 6,
     "metadata": {},
     "output_type": "execute_result"
    }
   ],
   "source": [
    "df_data.count()"
   ]
  },
  {
   "cell_type": "markdown",
   "metadata": {},
   "source": [
    "As you can see, the data set contains 10800 records."
   ]
  },
  {
   "cell_type": "markdown",
   "metadata": {},
   "source": [
    "## 3. Interactive Visualizations w/PixieDust"
   ]
  },
  {
   "cell_type": "code",
   "execution_count": 7,
   "metadata": {},
   "outputs": [
    {
     "name": "stdout",
     "output_type": "stream",
     "text": [
      "Pixiedust database opened successfully\n",
      "Table VERSION_TRACKER created successfully\n",
      "Table METRICS_TRACKER created successfully\n",
      "\n",
      "Share anonymous install statistics? (opt-out instructions)\n",
      "\n",
      "PixieDust will record metadata on its environment the next time the package is installed or updated. The data is anonymized and aggregated to help plan for future releases, and records only the following values:\n",
      "\n",
      "{\n",
      "   \"data_sent\": currentDate,\n",
      "   \"runtime\": \"python\",\n",
      "   \"application_version\": currentPixiedustVersion,\n",
      "   \"space_id\": nonIdentifyingUniqueId,\n",
      "   \"config\": {\n",
      "       \"repository_id\": \"https://github.com/ibm-watson-data-lab/pixiedust\",\n",
      "       \"target_runtimes\": [\"Data Science Experience\"],\n",
      "       \"event_id\": \"web\",\n",
      "       \"event_organizer\": \"dev-journeys\"\n",
      "   }\n",
      "}\n",
      "You can opt out by calling pixiedust.optOut() in a new cell.\n"
     ]
    },
    {
     "data": {
      "text/html": [
       "\n",
       "        <div style=\"margin:10px\">\n",
       "            <a href=\"https://github.com/ibm-watson-data-lab/pixiedust\" target=\"_new\">\n",
       "                <img src=\"https://github.com/ibm-watson-data-lab/pixiedust/raw/master/docs/_static/pd_icon32.png\" style=\"float:left;margin-right:10px\"/>\n",
       "            </a>\n",
       "            <span>Pixiedust version 1.1.17</span>\n",
       "        </div>\n",
       "        "
      ],
      "text/plain": [
       "<IPython.core.display.HTML object>"
      ]
     },
     "metadata": {},
     "output_type": "display_data"
    },
    {
     "name": "stdout",
     "output_type": "stream",
     "text": [
      "\u001b[31mPixiedust runtime updated. Please restart kernel\u001b[0m\n",
      "Table SPARK_PACKAGES created successfully\n",
      "Table USER_PREFERENCES created successfully\n",
      "Table service_connections created successfully\n"
     ]
    }
   ],
   "source": [
    "import pixiedust"
   ]
  },
  {
   "cell_type": "markdown",
   "metadata": {},
   "source": [
    "### Simple visualization using bar charts\n",
    "\n",
    "With PixieDust's `display()` method you can visually explore the loaded data using built-in charts, such as, bar charts, line charts, scatter plots, or maps.\n",
    "To explore a data set: choose the desired chart type from the drop down, configure chart options, configure display options."
   ]
  },
  {
   "cell_type": "code",
   "execution_count": null,
   "metadata": {
    "pixiedust": {
     "displayParams": {
      "aggregation": "AVG",
      "chartsize": "78",
      "handlerId": "scatterPlot",
      "keyFields": "AGE",
      "kind": "kde",
      "mpld3": "false",
      "rendererId": "seaborn",
      "rowCount": "500",
      "title": "Explore",
      "valueFields": "BMI"
     }
    }
   },
   "outputs": [
    {
     "data": {
      "text/html": [
       "<style type=\"text/css\">.pd_warning{display:none;}</style><div class=\"pd_warning\"><em>Hey, there's something awesome here! To see it, open this notebook outside GitHub, in a viewer like Jupyter</em></div>\n",
       "        <div class=\"pd_save is-viewer-good\" style=\"padding-right:10px;text-align: center;line-height:initial !important;font-size: xx-large;font-weight: 500;color: coral;\">\n",
       "            Explore\n",
       "        </div>\n",
       "    <div id=\"chartFigurea883f003\" class=\"pd_save is-viewer-good\" style=\"overflow-x:auto\">\n",
       "            \n",
       "                    \n",
       "                            <center><img style=\"max-width:initial !important\" src=\"data:image/png;base64,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\" class=\"pd_save\"></center>\n",
       "                        \n",
       "                    \n",
       "                \n",
       "        </div>"
      ],
      "text/plain": [
       "<IPython.core.display.HTML object>"
      ]
     },
     "metadata": {},
     "output_type": "display_data"
    }
   ],
   "source": [
    "display(df_data)"
   ]
  },
  {
   "cell_type": "markdown",
   "metadata": {},
   "source": [
    "## 4. Create a Spark machine learning model\n",
    "\n",
    "In this section you will learn how to prepare data, create and train a Spark machine learning model.\n",
    "\n",
    "### 4.1 Prepare data\n",
    "\n",
    "In this subsection you will split your data into: train and test data sets."
   ]
  },
  {
   "cell_type": "code",
   "execution_count": 9,
   "metadata": {},
   "outputs": [
    {
     "name": "stdout",
     "output_type": "stream",
     "text": [
      "Number of training records: 8637\n",
      "Number of testing records : 2163\n"
     ]
    }
   ],
   "source": [
    "split_data = df_data.randomSplit([0.8, 0.20], 24)\n",
    "train_data = split_data[0]\n",
    "test_data = split_data[1]\n",
    "\n",
    "print(\"Number of training records: \" + str(train_data.count()))\n",
    "print(\"Number of testing records : \" + str(test_data.count()))"
   ]
  },
  {
   "cell_type": "markdown",
   "metadata": {},
   "source": [
    "As you can see our data has been successfully split into two data sets:\n",
    "\n",
    "* The train data set, which is the largest group, is used for training.\n",
    "* The test data set will be used for model evaluation and is used to test the assumptions of the model.\n",
    "\n",
    "### 4.2 Create pipeline and train a model\n",
    "\n",
    "In this section you will create a Spark machine learning pipeline and then train the model. In the first step you need to import the Spark machine learning packages that will be needed in the subsequent steps. A sequence of data processing is called a _data pipeline_. Each step in the pipeline processes the data and passes the result to the next step in the pipeline, this allows you to transform and fit your model with the raw input data."
   ]
  },
  {
   "cell_type": "code",
   "execution_count": 10,
   "metadata": {},
   "outputs": [],
   "source": [
    "from pyspark.ml.feature import StringIndexer, IndexToString, VectorAssembler\n",
    "from pyspark.ml.classification import RandomForestClassifier\n",
    "from pyspark.ml.evaluation import MulticlassClassificationEvaluator\n",
    "from pyspark.ml import Pipeline, Model"
   ]
  },
  {
   "cell_type": "markdown",
   "metadata": {},
   "source": [
    "In the following step, convert all the string fields to numeric ones by using the StringIndexer transformer."
   ]
  },
  {
   "cell_type": "code",
   "execution_count": 11,
   "metadata": {},
   "outputs": [],
   "source": [
    "stringIndexer_label = StringIndexer(inputCol=\"HEARTFAILURE\", outputCol=\"label\").fit(df_data)\n",
    "stringIndexer_sex = StringIndexer(inputCol=\"SEX\", outputCol=\"SEX_IX\")\n",
    "stringIndexer_famhist = StringIndexer(inputCol=\"FAMILYHISTORY\", outputCol=\"FAMILYHISTORY_IX\")\n",
    "stringIndexer_smoker = StringIndexer(inputCol=\"SMOKERLAST5YRS\", outputCol=\"SMOKERLAST5YRS_IX\")"
   ]
  },
  {
   "cell_type": "markdown",
   "metadata": {},
   "source": [
    "\n",
    "In the following step, create a feature vector by combining all features together."
   ]
  },
  {
   "cell_type": "code",
   "execution_count": 12,
   "metadata": {},
   "outputs": [],
   "source": [
    "vectorAssembler_features = VectorAssembler(inputCols=[\"AVGHEARTBEATSPERMIN\",\"PALPITATIONSPERDAY\",\"CHOLESTEROL\",\"BMI\",\"AGE\",\"SEX_IX\",\"FAMILYHISTORY_IX\",\"SMOKERLAST5YRS_IX\",\"EXERCISEMINPERWEEK\"], outputCol=\"features\")"
   ]
  },
  {
   "cell_type": "markdown",
   "metadata": {},
   "source": [
    "Next, define estimators you want to use for classification. Random Forest is used in the following example."
   ]
  },
  {
   "cell_type": "code",
   "execution_count": 13,
   "metadata": {},
   "outputs": [],
   "source": [
    "rf = RandomForestClassifier(labelCol=\"label\", featuresCol=\"features\")"
   ]
  },
  {
   "cell_type": "markdown",
   "metadata": {},
   "source": [
    "Finally, indexed labels back to original labels."
   ]
  },
  {
   "cell_type": "code",
   "execution_count": 14,
   "metadata": {},
   "outputs": [],
   "source": [
    "labelConverter = IndexToString(inputCol=\"prediction\", outputCol=\"predictedLabel\", labels=stringIndexer_label.labels)"
   ]
  },
  {
   "cell_type": "code",
   "execution_count": 15,
   "metadata": {},
   "outputs": [
    {
     "name": "stdout",
     "output_type": "stream",
     "text": [
      "+-------------------+------------------+-----------+---+------------+---+---+-------------+--------------+------------------+-----+------+----------------+-----------------+--------------------+\n",
      "|AVGHEARTBEATSPERMIN|PALPITATIONSPERDAY|CHOLESTEROL|BMI|HEARTFAILURE|AGE|SEX|FAMILYHISTORY|SMOKERLAST5YRS|EXERCISEMINPERWEEK|label|SEX_IX|FAMILYHISTORY_IX|SMOKERLAST5YRS_IX|            features|\n",
      "+-------------------+------------------+-----------+---+------------+---+---+-------------+--------------+------------------+-----+------+----------------+-----------------+--------------------+\n",
      "|                 93|                22|        163| 25|           N| 49|  F|            N|             N|               110|  0.0|   1.0|             0.0|              0.0|[93.0,22.0,163.0,...|\n",
      "|                108|                22|        181| 24|           N| 32|  F|            N|             N|               192|  0.0|   1.0|             0.0|              0.0|[108.0,22.0,181.0...|\n",
      "|                 86|                 0|        239| 20|           N| 60|  F|            N|             N|               121|  0.0|   1.0|             0.0|              0.0|[86.0,0.0,239.0,2...|\n",
      "|                 80|                36|        164| 31|           Y| 45|  F|            Y|             N|               141|  1.0|   1.0|             1.0|              0.0|[80.0,36.0,164.0,...|\n",
      "|                 66|                36|        185| 23|           N| 39|  F|            N|             N|                63|  0.0|   1.0|             0.0|              0.0|[66.0,36.0,185.0,...|\n",
      "|                125|                27|        201| 31|           N| 47|  M|            N|             N|                13|  0.0|   0.0|             0.0|              0.0|[125.0,27.0,201.0...|\n",
      "|                 83|                27|        169| 20|           N| 71|  F|            Y|             N|               124|  0.0|   1.0|             1.0|              0.0|[83.0,27.0,169.0,...|\n",
      "|                107|                31|        199| 32|           N| 55|  F|            N|             N|                22|  0.0|   1.0|             0.0|              0.0|[107.0,31.0,199.0...|\n",
      "|                 92|                28|        174| 22|           N| 44|  F|            N|             N|               107|  0.0|   1.0|             0.0|              0.0|[92.0,28.0,174.0,...|\n",
      "|                 84|                12|        206| 25|           N| 50|  M|            N|             N|               199|  0.0|   0.0|             0.0|              0.0|[84.0,12.0,206.0,...|\n",
      "|                 60|                 1|        194| 28|           N| 71|  M|            N|             N|                27|  0.0|   0.0|             0.0|              0.0|[60.0,1.0,194.0,2...|\n",
      "|                134|                 7|        228| 34|           Y| 63|  F|            Y|             N|                92|  1.0|   1.0|             1.0|              0.0|[134.0,7.0,228.0,...|\n",
      "|                103|                 0|        237| 24|           N| 64|  F|            Y|             N|                34|  0.0|   1.0|             1.0|              0.0|[103.0,0.0,237.0,...|\n",
      "|                101|                39|        157| 20|           N| 49|  M|            N|             N|                33|  0.0|   0.0|             0.0|              0.0|[101.0,39.0,157.0...|\n",
      "|                 92|                 2|        169| 26|           N| 36|  M|            N|             N|               217|  0.0|   0.0|             0.0|              0.0|[92.0,2.0,169.0,2...|\n",
      "|                 80|                27|        234| 27|           N| 50|  M|            N|             N|                28|  0.0|   0.0|             0.0|              0.0|[80.0,27.0,234.0,...|\n",
      "|                 82|                14|        155| 30|           N| 70|  F|            N|             N|               207|  0.0|   1.0|             0.0|              0.0|[82.0,14.0,155.0,...|\n",
      "|                 63|                 9|        204| 26|           N| 42|  M|            N|             N|                88|  0.0|   0.0|             0.0|              0.0|[63.0,9.0,204.0,2...|\n",
      "|                 83|                12|        209| 29|           N| 38|  M|            Y|             N|               220|  0.0|   0.0|             1.0|              0.0|[83.0,12.0,209.0,...|\n",
      "|                 80|                37|        157| 20|           N| 48|  M|            N|             N|                54|  0.0|   0.0|             0.0|              0.0|[80.0,37.0,157.0,...|\n",
      "+-------------------+------------------+-----------+---+------------+---+---+-------------+--------------+------------------+-----+------+----------------+-----------------+--------------------+\n",
      "only showing top 20 rows\n",
      "\n"
     ]
    }
   ],
   "source": [
    "transform_df_pipeline = Pipeline(stages=[stringIndexer_label, stringIndexer_sex, stringIndexer_famhist, stringIndexer_smoker, vectorAssembler_features])\n",
    "transformed_df = transform_df_pipeline.fit(df_data).transform(df_data)\n",
    "transformed_df.show()"
   ]
  },
  {
   "cell_type": "markdown",
   "metadata": {},
   "source": [
    "Let's build the pipeline now. A pipeline consists of transformers and an estimator."
   ]
  },
  {
   "cell_type": "code",
   "execution_count": 16,
   "metadata": {},
   "outputs": [],
   "source": [
    "pipeline_rf = Pipeline(stages=[stringIndexer_label, stringIndexer_sex, stringIndexer_famhist, stringIndexer_smoker, vectorAssembler_features, rf, labelConverter])"
   ]
  },
  {
   "cell_type": "markdown",
   "metadata": {},
   "source": [
    "Now, you can train your Random Forest model by using the previously defined **pipeline** and **training data**."
   ]
  },
  {
   "cell_type": "code",
   "execution_count": 17,
   "metadata": {},
   "outputs": [],
   "source": [
    "model_rf = pipeline_rf.fit(train_data)"
   ]
  },
  {
   "cell_type": "markdown",
   "metadata": {},
   "source": [
    "You can check your **model accuracy** now. To evaluate the model, use **test data**."
   ]
  },
  {
   "cell_type": "code",
   "execution_count": 18,
   "metadata": {},
   "outputs": [
    {
     "name": "stdout",
     "output_type": "stream",
     "text": [
      "Accuracy = 0.871475\n",
      "Test Error = 0.128525\n"
     ]
    }
   ],
   "source": [
    "predictions = model_rf.transform(test_data)\n",
    "evaluatorRF = MulticlassClassificationEvaluator(labelCol=\"label\", predictionCol=\"prediction\", metricName=\"accuracy\")\n",
    "accuracy = evaluatorRF.evaluate(predictions)\n",
    "print(\"Accuracy = %g\" % accuracy)\n",
    "print(\"Test Error = %g\" % (1.0 - accuracy))"
   ]
  },
  {
   "cell_type": "markdown",
   "metadata": {},
   "source": [
    "You can tune your model now to achieve better accuracy. For simplicity of this example tuning section is omitted."
   ]
  },
  {
   "cell_type": "markdown",
   "metadata": {},
   "source": [
    "## 5. Persist model\n",
    "\n",
    "In this section you will learn how to store your pipeline and model in Watson Machine Learning repository by using Python client libraries.\n",
    "First, you must import client libraries.\n",
    "\n",
    "> **IMPORTANT**: Update the `wml_credentials` variable below. Copy and paste the entire credential dictionary, which can be found on the _Service Credentials_ tab of the Watson Machine Learning service instance created on the IBM Cloud."
   ]
  },
  {
   "cell_type": "code",
   "execution_count": null,
   "metadata": {},
   "outputs": [],
   "source": [
    "wml_credentials = {\n",
    "  \"apikey\": \"xyz\",\n",
    "  \"iam_apikey_description\": \"Auto-generated for key abc\",\n",
    "  \"iam_apikey_name\": \"Service credentials-1\",\n",
    "  \"iam_role_crn\": \"crn:v1:bluemix:public:iam::::serviceRole:Writer\",\n",
    "  \"iam_serviceid_crn\": \"crn:v1:bluemix:public:iam-identity::a123\",\n",
    "  \"instance_id\": \"xyz\",\n",
    "  \"url\": \"https://us-south.ml.cloud.ibm.com\"\n",
    "}\n",
    "\n",
    "print(wml_credentials)"
   ]
  },
  {
   "cell_type": "code",
   "execution_count": 21,
   "metadata": {},
   "outputs": [
    {
     "name": "stdout",
     "output_type": "stream",
     "text": [
      "1.0.371\n"
     ]
    }
   ],
   "source": [
    "from watson_machine_learning_client import WatsonMachineLearningAPIClient\n",
    "client = WatsonMachineLearningAPIClient(wml_credentials)\n",
    "print(client.version)"
   ]
  },
  {
   "cell_type": "markdown",
   "metadata": {},
   "source": [
    "> **TIP**: Update the cell below with your name, email, and name you wish to give to your model."
   ]
  },
  {
   "cell_type": "markdown",
   "metadata": {},
   "source": [
    "Create model artifact (abstraction layer)."
   ]
  },
  {
   "cell_type": "code",
   "execution_count": 22,
   "metadata": {},
   "outputs": [
    {
     "name": "stderr",
     "output_type": "stream",
     "text": [
      "/home/spark/shared/user-libs/python3/urllib3/connectionpool.py:851: InsecureRequestWarning: Unverified HTTPS request is being made. Adding certificate verification is strongly advised. See: https://urllib3.readthedocs.io/en/latest/advanced-usage.html#ssl-warnings\n",
      "  InsecureRequestWarning)\n"
     ]
    }
   ],
   "source": [
    "model_props = {client.repository.ModelMetaNames.AUTHOR_NAME: \"IBM\", \n",
    "               client.repository.ModelMetaNames.NAME: \"Heart Failure Prediction Model\"}\n",
    "published_model = client.repository.store_model(model=model_rf, pipeline=pipeline_rf, meta_props=model_props, training_data=train_data)"
   ]
  },
  {
   "cell_type": "markdown",
   "metadata": {},
   "source": [
    "\n",
    "## 5.1 Save pipeline and model\n",
    "\n",
    "In this subsection you will learn how to save pipeline and model artifacts to your Watson Machine Learning instance."
   ]
  },
  {
   "cell_type": "code",
   "execution_count": 23,
   "metadata": {},
   "outputs": [
    {
     "name": "stdout",
     "output_type": "stream",
     "text": [
      "{\n",
      "  \"metadata\": {\n",
      "    \"guid\": \"5dd30f48-f930-4373-acf8-2ab03a7742b2\",\n",
      "    \"url\": \"https://us-south.ml.cloud.ibm.com/v3/wml_instances/ef880149-8252-4e31-af75-8a3b8a9d6b59/published_models/5dd30f48-f930-4373-acf8-2ab03a7742b2\",\n",
      "    \"created_at\": \"2019-08-15T20:20:02.237Z\",\n",
      "    \"modified_at\": \"2019-08-15T20:20:02.307Z\"\n",
      "  },\n",
      "  \"entity\": {\n",
      "    \"runtime_environment\": \"spark-2.3\",\n",
      "    \"learning_configuration_url\": \"https://us-south.ml.cloud.ibm.com/v3/wml_instances/ef880149-8252-4e31-af75-8a3b8a9d6b59/published_models/5dd30f48-f930-4373-acf8-2ab03a7742b2/learning_configuration\",\n",
      "    \"author\": {\n",
      "      \"name\": \"IBM\"\n",
      "    },\n",
      "    \"name\": \"Heart Failure Prediction Model\",\n",
      "    \"label_col\": \"HEARTFAILURE\",\n",
      "    \"learning_iterations_url\": \"https://us-south.ml.cloud.ibm.com/v3/wml_instances/ef880149-8252-4e31-af75-8a3b8a9d6b59/published_models/5dd30f48-f930-4373-acf8-2ab03a7742b2/learning_iterations\",\n",
      "    \"training_data_schema\": {\n",
      "      \"fields\": [\n",
      "        {\n",
      "          \"metadata\": {},\n",
      "          \"name\": \"AVGHEARTBEATSPERMIN\",\n",
      "          \"nullable\": true,\n",
      "          \"type\": \"integer\"\n",
      "        },\n",
      "        {\n",
      "          \"metadata\": {},\n",
      "          \"name\": \"PALPITATIONSPERDAY\",\n",
      "          \"nullable\": true,\n",
      "          \"type\": \"integer\"\n",
      "        },\n",
      "        {\n",
      "          \"metadata\": {},\n",
      "          \"name\": \"CHOLESTEROL\",\n",
      "          \"nullable\": true,\n",
      "          \"type\": \"integer\"\n",
      "        },\n",
      "        {\n",
      "          \"metadata\": {},\n",
      "          \"name\": \"BMI\",\n",
      "          \"nullable\": true,\n",
      "          \"type\": \"integer\"\n",
      "        },\n",
      "        {\n",
      "          \"metadata\": {\n",
      "            \"modeling_role\": \"target\"\n",
      "          },\n",
      "          \"name\": \"HEARTFAILURE\",\n",
      "          \"nullable\": true,\n",
      "          \"type\": \"string\"\n",
      "        },\n",
      "        {\n",
      "          \"metadata\": {},\n",
      "          \"name\": \"AGE\",\n",
      "          \"nullable\": true,\n",
      "          \"type\": \"integer\"\n",
      "        },\n",
      "        {\n",
      "          \"metadata\": {},\n",
      "          \"name\": \"SEX\",\n",
      "          \"nullable\": true,\n",
      "          \"type\": \"string\"\n",
      "        },\n",
      "        {\n",
      "          \"metadata\": {},\n",
      "          \"name\": \"FAMILYHISTORY\",\n",
      "          \"nullable\": true,\n",
      "          \"type\": \"string\"\n",
      "        },\n",
      "        {\n",
      "          \"metadata\": {},\n",
      "          \"name\": \"SMOKERLAST5YRS\",\n",
      "          \"nullable\": true,\n",
      "          \"type\": \"string\"\n",
      "        },\n",
      "        {\n",
      "          \"metadata\": {},\n",
      "          \"name\": \"EXERCISEMINPERWEEK\",\n",
      "          \"nullable\": true,\n",
      "          \"type\": \"integer\"\n",
      "        }\n",
      "      ],\n",
      "      \"type\": \"struct\"\n",
      "    },\n",
      "    \"feedback_url\": \"https://us-south.ml.cloud.ibm.com/v3/wml_instances/ef880149-8252-4e31-af75-8a3b8a9d6b59/published_models/5dd30f48-f930-4373-acf8-2ab03a7742b2/feedback\",\n",
      "    \"latest_version\": {\n",
      "      \"url\": \"https://us-south.ml.cloud.ibm.com/v3/ml_assets/models/5dd30f48-f930-4373-acf8-2ab03a7742b2/versions/f3049502-6871-4ac3-bac5-e0e22851e6fc\",\n",
      "      \"guid\": \"f3049502-6871-4ac3-bac5-e0e22851e6fc\",\n",
      "      \"created_at\": \"2019-08-15T20:20:02.307Z\"\n",
      "    },\n",
      "    \"model_type\": \"mllib-2.3\",\n",
      "    \"deployments\": {\n",
      "      \"count\": 0,\n",
      "      \"url\": \"https://us-south.ml.cloud.ibm.com/v3/wml_instances/ef880149-8252-4e31-af75-8a3b8a9d6b59/published_models/5dd30f48-f930-4373-acf8-2ab03a7742b2/deployments\"\n",
      "    },\n",
      "    \"evaluation_metrics_url\": \"https://us-south.ml.cloud.ibm.com/v3/wml_instances/ef880149-8252-4e31-af75-8a3b8a9d6b59/published_models/5dd30f48-f930-4373-acf8-2ab03a7742b2/evaluation_metrics\",\n",
      "    \"input_data_schema\": {\n",
      "      \"fields\": [\n",
      "        {\n",
      "          \"metadata\": {},\n",
      "          \"name\": \"AVGHEARTBEATSPERMIN\",\n",
      "          \"nullable\": true,\n",
      "          \"type\": \"integer\"\n",
      "        },\n",
      "        {\n",
      "          \"metadata\": {},\n",
      "          \"name\": \"PALPITATIONSPERDAY\",\n",
      "          \"nullable\": true,\n",
      "          \"type\": \"integer\"\n",
      "        },\n",
      "        {\n",
      "          \"metadata\": {},\n",
      "          \"name\": \"CHOLESTEROL\",\n",
      "          \"nullable\": true,\n",
      "          \"type\": \"integer\"\n",
      "        },\n",
      "        {\n",
      "          \"metadata\": {},\n",
      "          \"name\": \"BMI\",\n",
      "          \"nullable\": true,\n",
      "          \"type\": \"integer\"\n",
      "        },\n",
      "        {\n",
      "          \"metadata\": {},\n",
      "          \"name\": \"AGE\",\n",
      "          \"nullable\": true,\n",
      "          \"type\": \"integer\"\n",
      "        },\n",
      "        {\n",
      "          \"metadata\": {},\n",
      "          \"name\": \"SEX\",\n",
      "          \"nullable\": true,\n",
      "          \"type\": \"string\"\n",
      "        },\n",
      "        {\n",
      "          \"metadata\": {},\n",
      "          \"name\": \"FAMILYHISTORY\",\n",
      "          \"nullable\": true,\n",
      "          \"type\": \"string\"\n",
      "        },\n",
      "        {\n",
      "          \"metadata\": {},\n",
      "          \"name\": \"SMOKERLAST5YRS\",\n",
      "          \"nullable\": true,\n",
      "          \"type\": \"string\"\n",
      "        },\n",
      "        {\n",
      "          \"metadata\": {},\n",
      "          \"name\": \"EXERCISEMINPERWEEK\",\n",
      "          \"nullable\": true,\n",
      "          \"type\": \"integer\"\n",
      "        }\n",
      "      ],\n",
      "      \"type\": \"struct\"\n",
      "    }\n",
      "  }\n",
      "}\n"
     ]
    }
   ],
   "source": [
    "import json\n",
    "published_model_uid = client.repository.get_model_uid(published_model)\n",
    "model_details = client.repository.get_details(published_model_uid)\n",
    "print(json.dumps(model_details, indent=2))"
   ]
  },
  {
   "cell_type": "markdown",
   "metadata": {},
   "source": [
    "\n",
    "## 5.2 Load model to verify that it was saved correctly\n",
    "\n",
    "You can load your model to make sure that it was saved correctly."
   ]
  },
  {
   "cell_type": "code",
   "execution_count": 24,
   "metadata": {},
   "outputs": [
    {
     "name": "stdout",
     "output_type": "stream",
     "text": [
      "PipelineModel_44cdae4f855e6ec2691d\n"
     ]
    }
   ],
   "source": [
    "loaded_model = client.repository.load(published_model_uid)\n",
    "print(loaded_model)"
   ]
  },
  {
   "cell_type": "markdown",
   "metadata": {},
   "source": [
    "Call model against test data to verify that it has been loaded correctly. Examine top 3 results"
   ]
  },
  {
   "cell_type": "code",
   "execution_count": 25,
   "metadata": {},
   "outputs": [
    {
     "name": "stdout",
     "output_type": "stream",
     "text": [
      "+----------------------------------------+--------------+\n",
      "|probability                             |predictedLabel|\n",
      "+----------------------------------------+--------------+\n",
      "|[0.9280472309536159,0.07195276904638422]|N             |\n",
      "|[0.9241890079638004,0.07581099203619959]|N             |\n",
      "|[0.9246185696576192,0.07538143034238076]|N             |\n",
      "+----------------------------------------+--------------+\n",
      "only showing top 3 rows\n",
      "\n"
     ]
    }
   ],
   "source": [
    "test_predictions = loaded_model.transform(test_data)\n",
    "test_predictions.select('probability', 'predictedLabel').show(n=3, truncate=False)"
   ]
  },
  {
   "cell_type": "markdown",
   "metadata": {},
   "source": [
    "## <font color=green>Congratulations</font>, you've sucessfully created a predictive model and saved it in the Watson Machine Learning service. \n",
    "\n",
    "You can now switch to the Watson Machine Learning console to deploy the model and then test it in application, or continue within the notebook to deploy the model using the APIs.\n",
    "\n",
    "***"
   ]
  },
  {
   "cell_type": "markdown",
   "metadata": {},
   "source": [
    "## 6.0 Accessing Watson ML Models and Deployments through API\n",
    "\n",
    "Instead of jumping from your notebook into a web browser, manage your model and delopment through a set of APIs"
   ]
  },
  {
   "cell_type": "markdown",
   "metadata": {},
   "source": [
    "### Deploy model to WML Service"
   ]
  },
  {
   "cell_type": "code",
   "execution_count": 26,
   "metadata": {},
   "outputs": [
    {
     "name": "stdout",
     "output_type": "stream",
     "text": [
      "\n",
      "\n",
      "#######################################################################################\n",
      "\n",
      "Synchronous deployment creation for uid: '5dd30f48-f930-4373-acf8-2ab03a7742b2' started\n",
      "\n",
      "#######################################################################################\n",
      "\n",
      "\n",
      "INITIALIZING\n",
      "DEPLOY_SUCCESS\n",
      "\n",
      "\n",
      "------------------------------------------------------------------------------------------------\n",
      "Successfully finished deployment creation, deployment_uid='a65f0386-912e-452c-bf87-63c10d50e73e'\n",
      "------------------------------------------------------------------------------------------------\n",
      "\n",
      "\n"
     ]
    }
   ],
   "source": [
    "created_deployment = client.deployments.create(published_model_uid, name=\"Heart Failure prediction\")"
   ]
  },
  {
   "cell_type": "markdown",
   "metadata": {},
   "source": [
    "### Print the scoring endpoint"
   ]
  },
  {
   "cell_type": "code",
   "execution_count": 27,
   "metadata": {},
   "outputs": [
    {
     "name": "stdout",
     "output_type": "stream",
     "text": [
      "https://us-south.ml.cloud.ibm.com/v3/wml_instances/ef880149-8252-4e31-af75-8a3b8a9d6b59/deployments/a65f0386-912e-452c-bf87-63c10d50e73e/online\n"
     ]
    }
   ],
   "source": [
    "scoring_endpoint = client.deployments.get_scoring_url(created_deployment)\n",
    "\n",
    "print(scoring_endpoint)"
   ]
  },
  {
   "cell_type": "markdown",
   "metadata": {},
   "source": [
    "### List model deployments"
   ]
  },
  {
   "cell_type": "code",
   "execution_count": 28,
   "metadata": {},
   "outputs": [
    {
     "name": "stdout",
     "output_type": "stream",
     "text": [
      "------------------------------------  -----------------------------------------  ------  --------------  ------------------------  ---------  -------------\n",
      "GUID                                  NAME                                       TYPE    STATE           CREATED                   FRAMEWORK  ARTIFACT TYPE\n",
      "a65f0386-912e-452c-bf87-63c10d50e73e  Heart Failure prediction                   online  DEPLOY_SUCCESS  2019-08-15T20:20:26.390Z  mllib-2.3  model\n",
      "6b49bd0e-b8e6-4910-bf4f-410d5270c0b5  Shopping Recommendation Engine Deployment  online  DEPLOY_SUCCESS  2019-08-15T13:25:44.170Z  mllib-2.3  model\n",
      "------------------------------------  -----------------------------------------  ------  --------------  ------------------------  ---------  -------------\n"
     ]
    }
   ],
   "source": [
    "client.deployments.list()"
   ]
  },
  {
   "cell_type": "markdown",
   "metadata": {},
   "source": [
    "## 6.1 Invoke prediction model deployment\n"
   ]
  },
  {
   "cell_type": "code",
   "execution_count": 29,
   "metadata": {},
   "outputs": [
    {
     "name": "stdout",
     "output_type": "stream",
     "text": [
      "{\n",
      "  \"fields\": [\n",
      "    \"AVGHEARTBEATSPERMIN\",\n",
      "    \"PALPITATIONSPERDAY\",\n",
      "    \"CHOLESTEROL\",\n",
      "    \"BMI\",\n",
      "    \"AGE\",\n",
      "    \"SEX\",\n",
      "    \"FAMILYHISTORY\",\n",
      "    \"SMOKERLAST5YRS\",\n",
      "    \"EXERCISEMINPERWEEK\",\n",
      "    \"HEARTFAILURE\",\n",
      "    \"label\",\n",
      "    \"SEX_IX\",\n",
      "    \"FAMILYHISTORY_IX\",\n",
      "    \"SMOKERLAST5YRS_IX\",\n",
      "    \"features\",\n",
      "    \"rawPrediction\",\n",
      "    \"probability\",\n",
      "    \"prediction\",\n",
      "    \"predictedLabel\"\n",
      "  ],\n",
      "  \"values\": [\n",
      "    [\n",
      "      100,\n",
      "      85,\n",
      "      242,\n",
      "      24,\n",
      "      44,\n",
      "      \"F\",\n",
      "      \"Y\",\n",
      "      \"Y\",\n",
      "      125,\n",
      "      \"N\",\n",
      "      0.0,\n",
      "      1.0,\n",
      "      1.0,\n",
      "      1.0,\n",
      "      [\n",
      "        100.0,\n",
      "        85.0,\n",
      "        242.0,\n",
      "        24.0,\n",
      "        44.0,\n",
      "        1.0,\n",
      "        1.0,\n",
      "        1.0,\n",
      "        125.0\n",
      "      ],\n",
      "      [\n",
      "        4.7413121526952215,\n",
      "        15.258687847304778\n",
      "      ],\n",
      "      [\n",
      "        0.2370656076347611,\n",
      "        0.7629343923652389\n",
      "      ],\n",
      "      1.0,\n",
      "      \"Y\"\n",
      "    ]\n",
      "  ]\n",
      "}\n",
      "Y\n"
     ]
    }
   ],
   "source": [
    "scoring_payload = { \"fields\":[\"AVGHEARTBEATSPERMIN\",\"PALPITATIONSPERDAY\",\"CHOLESTEROL\",\"BMI\",\"AGE\",\"SEX\",\"FAMILYHISTORY\",\"SMOKERLAST5YRS\",\"EXERCISEMINPERWEEK\"],\"values\":[[100,85,242,24,44,\"F\",\"Y\",\"Y\",125]]}\n",
    "\n",
    "predictions = client.deployments.score(scoring_endpoint, scoring_payload)\n",
    "\n",
    "print(json.dumps(predictions, indent=2))\n",
    "print(predictions['values'][0][18])"
   ]
  },
  {
   "cell_type": "markdown",
   "metadata": {},
   "source": [
    "### Narrow down prediction results to just the prediction"
   ]
  },
  {
   "cell_type": "code",
   "execution_count": 30,
   "metadata": {},
   "outputs": [
    {
     "name": "stdout",
     "output_type": "stream",
     "text": [
      "Is a 44 year old female that smokes with a low BMI at risk of Heart Failure?: Y\n"
     ]
    }
   ],
   "source": [
    "print('Is a 44 year old female that smokes with a low BMI at risk of Heart Failure?: {}'.format(client.deployments.score(scoring_endpoint, scoring_payload)\n",
    "['values'][0][18]))"
   ]
  }
 ],
 "metadata": {
  "celltoolbar": "Raw Cell Format",
  "kernelspec": {
   "display_name": "Python 3.6 with Spark",
   "language": "python3",
   "name": "python36"
  },
  "language_info": {
   "codemirror_mode": {
    "name": "ipython",
    "version": 3
   },
   "file_extension": ".py",
   "mimetype": "text/x-python",
   "name": "python",
   "nbconvert_exporter": "python",
   "pygments_lexer": "ipython3",
   "version": "3.6.8"
  }
 },
 "nbformat": 4,
 "nbformat_minor": 1
}
